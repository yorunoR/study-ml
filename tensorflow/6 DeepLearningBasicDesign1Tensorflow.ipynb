{
 "cells": [
  {
   "cell_type": "code",
   "execution_count": 1,
   "metadata": {
    "collapsed": true
   },
   "outputs": [],
   "source": [
    "#library\n",
    "import numpy as np\n",
    "import tensorflow as tf\n",
    "\n",
    "from sklearn.utils import shuffle\n",
    "from sklearn.model_selection import train_test_split\n",
    "\n",
    "np.random.seed(0)\n",
    "tf.set_random_seed(0)"
   ]
  },
  {
   "cell_type": "code",
   "execution_count": 2,
   "metadata": {
    "collapsed": true
   },
   "outputs": [],
   "source": [
    "#data\n",
    "from sklearn import datasets\n",
    "\n",
    "mnist = datasets.fetch_mldata('MNIST original', data_home=\".\")\n",
    "n = len(mnist.data)\n",
    "N = 10000\n",
    "indices = np.random.permutation(range(n))[:N]\n",
    "X = mnist.data[indices]\n",
    "y = mnist.target[indices]\n",
    "Y = np.eye(10)[y.astype(int)]"
   ]
  },
  {
   "cell_type": "code",
   "execution_count": 3,
   "metadata": {
    "collapsed": true
   },
   "outputs": [],
   "source": [
    "#train/test\n",
    "X_train, X_test, Y_train, Y_test = train_test_split(X, Y, train_size=0.8, random_state=0)"
   ]
  },
  {
   "cell_type": "code",
   "execution_count": 4,
   "metadata": {
    "collapsed": true
   },
   "outputs": [],
   "source": [
    "#architecture\n",
    "n_in = len(X[0])\n",
    "n_hiddens = [100 ,100]\n",
    "n_out = len(Y[0])"
   ]
  },
  {
   "cell_type": "code",
   "execution_count": 5,
   "metadata": {
    "collapsed": true
   },
   "outputs": [],
   "source": [
    "def inference(x, keep_prob, n_in, n_hiddens, n_out):\n",
    "    \n",
    "    def weight_variable(shape):\n",
    "        initial = tf.truncated_normal(shape, stddev=0.01)\n",
    "        return tf.Variable(initial)\n",
    "    \n",
    "    def bias_variable(shape):\n",
    "        initial = tf.zeros(shape)\n",
    "        return tf.Variable(initial)\n",
    "    \n",
    "    for i, n_hidden in enumerate(n_hiddens):\n",
    "        if i==0:\n",
    "            input = x\n",
    "            input_dim = n_in\n",
    "        else:\n",
    "            input = output\n",
    "            input_dim = n_hiddens[i-1]\n",
    "            \n",
    "        W = weight_variable([input_dim,n_hidden])\n",
    "        b = bias_variable([n_hidden])\n",
    "        \n",
    "        h = tf.nn.sigmoid( tf.matmul(input,W) + b )\n",
    "        output = tf.nn.dropout(h, keep_prob)\n",
    "        \n",
    "    W_out = weight_variable([n_hiddens[-1],n_out])\n",
    "    b_out = bias_variable([n_out]) \n",
    "    y = tf.nn.softmax( tf.matmul(output,W_out) + b_out )\n",
    "    \n",
    "    return y"
   ]
  },
  {
   "cell_type": "code",
   "execution_count": 6,
   "metadata": {
    "collapsed": true
   },
   "outputs": [],
   "source": [
    "x = tf.placeholder(tf.float32, shape=[None,n_in])\n",
    "t = tf.placeholder(tf.float32, shape=[None,n_out])\n",
    "keep_prob = tf.placeholder(tf.float32)\n",
    "\n",
    "y = inference(x, keep_prob, n_in=n_in, n_hiddens=n_hiddens, n_out=n_out)"
   ]
  },
  {
   "cell_type": "code",
   "execution_count": 7,
   "metadata": {
    "collapsed": true
   },
   "outputs": [],
   "source": [
    "def loss(y,t):\n",
    "    cross_entropy = tf.reduce_mean(-tf.reduce_sum(t*tf.log(y),reduction_indices=[1]))\n",
    "    return cross_entropy"
   ]
  },
  {
   "cell_type": "code",
   "execution_count": 8,
   "metadata": {
    "collapsed": true
   },
   "outputs": [],
   "source": [
    "def training(loss):\n",
    "    optimizer = tf.train.GradientDescentOptimizer(0.1)\n",
    "    train_step = optimizer.minimize(loss)\n",
    "    return train_step"
   ]
  },
  {
   "cell_type": "code",
   "execution_count": 9,
   "metadata": {},
   "outputs": [],
   "source": [
    "train_step = training(loss(y,t))"
   ]
  },
  {
   "cell_type": "code",
   "execution_count": 10,
   "metadata": {
    "collapsed": true
   },
   "outputs": [],
   "source": [
    "epochs = 100\n",
    "batch_size = 100\n",
    "n_batches = N // batch_size"
   ]
  },
  {
   "cell_type": "code",
   "execution_count": 11,
   "metadata": {
    "collapsed": true
   },
   "outputs": [],
   "source": [
    "init = tf.global_variables_initializer()\n",
    "sess = tf.Session()\n",
    "sess.run(init)"
   ]
  },
  {
   "cell_type": "code",
   "execution_count": 12,
   "metadata": {
    "collapsed": true
   },
   "outputs": [],
   "source": [
    "correct_prediction = tf.equal(tf.argmax(y,1), tf.argmax(t,1))\n",
    "accuracy = tf.reduce_mean(tf.cast(correct_prediction, tf.float32))"
   ]
  },
  {
   "cell_type": "code",
   "execution_count": 13,
   "metadata": {},
   "outputs": [
    {
     "name": "stdout",
     "output_type": "stream",
     "text": [
      "epoch=0, accuracy=0.118\n",
      "epoch=10, accuracy=0.669\n",
      "epoch=20, accuracy=0.746\n",
      "epoch=30, accuracy=0.797\n",
      "epoch=40, accuracy=0.814\n",
      "epoch=50, accuracy=0.849\n",
      "epoch=60, accuracy=0.8585\n",
      "epoch=70, accuracy=0.8615\n",
      "epoch=80, accuracy=0.8505\n",
      "epoch=90, accuracy=0.864\n"
     ]
    }
   ],
   "source": [
    "for epoch in range(epochs):\n",
    "    X_, Y_ = shuffle(X_train, Y_train, random_state=0)\n",
    "    #print(epoch)\n",
    "    for i in range(n_batches):\n",
    "        start = i * batch_size\n",
    "        end = start + batch_size\n",
    "        sess.run(train_step, feed_dict={\n",
    "            x: X_[start:end],\n",
    "            t: Y_[start:end],\n",
    "            keep_prob: 0.5\n",
    "        })\n",
    "    if epoch % 10 == 0:\n",
    "        print(\"epoch=%d, accuracy=%g\" % (epoch, sess.run(accuracy, feed_dict={ x: X_test, t: Y_test, keep_prob: 1.0 } )))"
   ]
  },
  {
   "cell_type": "code",
   "execution_count": 14,
   "metadata": {
    "collapsed": true
   },
   "outputs": [],
   "source": [
    "val_prediction = tf.argmax(y,1)"
   ]
  },
  {
   "cell_type": "code",
   "execution_count": 15,
   "metadata": {},
   "outputs": [],
   "source": [
    "X_, Y_ = shuffle(X_test, Y_test)\n",
    "classfied = correct_prediction.eval(session=sess, feed_dict={\n",
    "    x: X_[0:5],\n",
    "    t: Y_[0:5],\n",
    "    keep_prob: 1.0\n",
    "})\n",
    "prob = y.eval(session=sess, feed_dict={\n",
    "    x:X_[0:5],\n",
    "    keep_prob: 1.0\n",
    "})\n",
    "val = val_prediction.eval(session=sess, feed_dict={\n",
    "    x:X_[0:5],\n",
    "    keep_prob: 1.0\n",
    "})"
   ]
  },
  {
   "cell_type": "code",
   "execution_count": 16,
   "metadata": {},
   "outputs": [
    {
     "name": "stdout",
     "output_type": "stream",
     "text": [
      "[ True  True  True  True  True]\n",
      "[[  1.60266882e-05   5.01151988e-03   2.78346776e-03   2.02979296e-02\n",
      "    1.63059996e-03   2.85071861e-02   2.83694040e-04   2.13489751e-04\n",
      "    9.33442831e-01   7.81332143e-03]\n",
      " [  2.36753311e-10   9.94065881e-01   1.69644260e-03   1.22322456e-03\n",
      "    1.12848365e-05   1.91003001e-05   4.33657442e-06   2.85855116e-04\n",
      "    2.67267390e-03   2.11224942e-05]\n",
      " [  2.22353833e-08   9.66174006e-01   1.14764608e-02   4.64501558e-03\n",
      "    4.39441610e-05   3.12752090e-04   1.31983892e-04   2.49512057e-04\n",
      "    1.69129446e-02   5.33610073e-05]\n",
      " [  8.38743709e-03   6.21106155e-05   4.34478521e-02   1.31464345e-04\n",
      "    3.62211862e-03   2.61107739e-02   9.15596783e-01   8.22209074e-07\n",
      "    2.52073910e-03   1.20000142e-04]\n",
      " [  5.38517452e-05   2.54640490e-05   8.71848594e-03   3.02148464e-06\n",
      "    4.14519804e-03   2.74561252e-03   9.83702779e-01   4.06402592e-08\n",
      "    5.70431876e-04   3.50019836e-05]]\n",
      "[8 1 1 6 6]\n",
      "[[ 0.  0.  0.  0.  0.  0.  0.  0.  1.  0.]\n",
      " [ 0.  1.  0.  0.  0.  0.  0.  0.  0.  0.]\n",
      " [ 0.  1.  0.  0.  0.  0.  0.  0.  0.  0.]\n",
      " [ 0.  0.  0.  0.  0.  0.  1.  0.  0.  0.]\n",
      " [ 0.  0.  0.  0.  0.  0.  1.  0.  0.  0.]]\n"
     ]
    }
   ],
   "source": [
    "print(classfied)\n",
    "print(prob)\n",
    "print(val)\n",
    "print(Y_[0:5])"
   ]
  },
  {
   "cell_type": "code",
   "execution_count": 17,
   "metadata": {},
   "outputs": [
    {
     "data": {
      "image/png": "[encoded data removed]",
      "text/plain": [
       "<matplotlib.figure.Figure at 0x7f639f168860>"
      ]
     },
     "metadata": {},
     "output_type": "display_data"
    }
   ],
   "source": [
    "from matplotlib import pyplot as plt\n",
    "from matplotlib import cm\n",
    "plt.imshow(X_[0].reshape(28, 28), cmap=cm.gray_r)\n",
    "plt.show()"
   ]
  },
  {
   "cell_type": "code",
   "execution_count": 18,
   "metadata": {},
   "outputs": [
    {
     "data": {
      "image/png": "[encoded data removed]",
      "text/plain": [
       "<matplotlib.figure.Figure at 0x7f639f4faac8>"
      ]
     },
     "metadata": {},
     "output_type": "display_data"
    }
   ],
   "source": [
    "plt.bar(range(10),prob[0])\n",
    "plt.show()"
   ]
  },
  {
   "cell_type": "code",
   "execution_count": null,
   "metadata": {
    "collapsed": true
   },
   "outputs": [],
   "source": []
  }
 ],
 "metadata": {
  "kernelspec": {
   "display_name": "Python 3",
   "language": "python",
   "name": "python3"
  },
  "language_info": {
   "codemirror_mode": {
    "name": "ipython",
    "version": 3
   },
   "file_extension": ".py",
   "mimetype": "text/x-python",
   "name": "python",
   "nbconvert_exporter": "python",
   "pygments_lexer": "ipython3",
   "version": "3.6.1"
  }
 },
 "nbformat": 4,
 "nbformat_minor": 2
}
