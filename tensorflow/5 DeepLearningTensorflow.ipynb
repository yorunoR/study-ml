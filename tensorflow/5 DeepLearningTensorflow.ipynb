{
 "cells": [
  {
   "cell_type": "code",
   "execution_count": 1,
   "metadata": {
    "collapsed": true
   },
   "outputs": [],
   "source": [
    "from sklearn import datasets\n",
    "from sklearn.model_selection import train_test_split\n",
    "import numpy as np\n",
    "import tensorflow as tf\n",
    "from sklearn.utils import shuffle\n",
    "tf.set_random_seed(0)\n",
    "np.random.seed(0)"
   ]
  },
  {
   "cell_type": "code",
   "execution_count": 2,
   "metadata": {
    "collapsed": true
   },
   "outputs": [],
   "source": [
    "mnist = datasets.fetch_mldata('MNIST original', data_home=\".\")"
   ]
  },
  {
   "cell_type": "code",
   "execution_count": 3,
   "metadata": {
    "collapsed": true
   },
   "outputs": [],
   "source": [
    "n = len(mnist.data)\n",
    "N = 10000\n",
    "indices = np.random.permutation(range(n))[:N]\n",
    "X = mnist.data[indices]\n",
    "y = mnist.target[indices]"
   ]
  },
  {
   "cell_type": "code",
   "execution_count": 4,
   "metadata": {
    "collapsed": true
   },
   "outputs": [],
   "source": [
    "Y = np.eye(10)[y.astype(int)]"
   ]
  },
  {
   "cell_type": "code",
   "execution_count": 5,
   "metadata": {
    "collapsed": true
   },
   "outputs": [],
   "source": [
    "X_train, X_test, Y_train, Y_test = train_test_split(X, Y, train_size=0.8)"
   ]
  },
  {
   "cell_type": "code",
   "execution_count": 6,
   "metadata": {
    "collapsed": true
   },
   "outputs": [],
   "source": [
    "n_in = len(X[0])\n",
    "n_hidden = 200\n",
    "n_out = len(Y[0])"
   ]
  },
  {
   "cell_type": "code",
   "execution_count": 7,
   "metadata": {
    "collapsed": true
   },
   "outputs": [],
   "source": [
    "x = tf.placeholder(tf.float32, shape=[None,n_in])\n",
    "t = tf.placeholder(tf.float32, shape=[None,n_out])\n",
    "\n",
    "W = tf.Variable(tf.truncated_normal([n_in,n_hidden]))\n",
    "b = tf.Variable(tf.zeros([n_hidden]))\n",
    "h = tf.nn.sigmoid(tf.matmul(x,W) + b)\n",
    "\n",
    "V = tf.Variable(tf.truncated_normal([n_hidden,n_out]))\n",
    "c = tf.Variable(tf.zeros([n_out]))\n",
    "y = tf.nn.softmax(tf.matmul(h,V) + c)"
   ]
  },
  {
   "cell_type": "code",
   "execution_count": 8,
   "metadata": {
    "collapsed": true
   },
   "outputs": [],
   "source": [
    "cross_entropy = tf.reduce_mean(-tf.reduce_sum(t*tf.log(y),reduction_indices=[1]))"
   ]
  },
  {
   "cell_type": "code",
   "execution_count": 9,
   "metadata": {
    "collapsed": true
   },
   "outputs": [],
   "source": [
    "train_step = tf.train.GradientDescentOptimizer(0.1).minimize(cross_entropy)"
   ]
  },
  {
   "cell_type": "code",
   "execution_count": 10,
   "metadata": {
    "collapsed": true
   },
   "outputs": [],
   "source": [
    "epochs = 100\n",
    "batch_size = 100\n",
    "n_batches = N // batch_size"
   ]
  },
  {
   "cell_type": "code",
   "execution_count": 11,
   "metadata": {
    "collapsed": true
   },
   "outputs": [],
   "source": [
    "init = tf.global_variables_initializer()\n",
    "sess = tf.Session()\n",
    "sess.run(init)"
   ]
  },
  {
   "cell_type": "code",
   "execution_count": 12,
   "metadata": {
    "collapsed": true
   },
   "outputs": [],
   "source": [
    "correct_prediction = tf.equal(tf.argmax(y,1), tf.argmax(t,1))\n",
    "accuracy = tf.reduce_mean(tf.cast(correct_prediction, tf.float32))"
   ]
  },
  {
   "cell_type": "code",
   "execution_count": 13,
   "metadata": {},
   "outputs": [
    {
     "name": "stdout",
     "output_type": "stream",
     "text": [
      "epoch=0, accuracy=0.4185\n",
      "epoch=10, accuracy=0.7215\n",
      "epoch=20, accuracy=0.7665\n",
      "epoch=30, accuracy=0.7895\n",
      "epoch=40, accuracy=0.818\n",
      "epoch=50, accuracy=0.8255\n",
      "epoch=60, accuracy=0.8385\n",
      "epoch=70, accuracy=0.8355\n",
      "epoch=80, accuracy=0.8405\n",
      "epoch=90, accuracy=0.8515\n"
     ]
    }
   ],
   "source": [
    "for epoch in range(epochs):\n",
    "    X_, Y_ = shuffle(X_train, Y_train)\n",
    "    #print(epoch)\n",
    "    for i in range(n_batches):\n",
    "        start = i * batch_size\n",
    "        end = start + batch_size\n",
    "        sess.run(train_step, feed_dict={\n",
    "            x: X_[start:end],\n",
    "            t: Y_[start:end]\n",
    "        })\n",
    "    if epoch % 10 == 0:\n",
    "        print(\"epoch=%d, accuracy=%g\" % (epoch, sess.run(accuracy, feed_dict={ x: X_test, t: Y_test } )))"
   ]
  },
  {
   "cell_type": "code",
   "execution_count": 14,
   "metadata": {
    "collapsed": true
   },
   "outputs": [],
   "source": [
    "val_prediction = tf.argmax(y,1)"
   ]
  },
  {
   "cell_type": "code",
   "execution_count": 15,
   "metadata": {
    "collapsed": true
   },
   "outputs": [],
   "source": [
    "X_, Y_ = shuffle(X_test, Y_test)\n",
    "classfied = correct_prediction.eval(session=sess, feed_dict={\n",
    "    x: X_[0:5],\n",
    "    t: Y_[0:5]\n",
    "})\n",
    "prob = y.eval(session=sess, feed_dict={\n",
    "    x:X_[0:5]\n",
    "})\n",
    "val = val_prediction.eval(session=sess, feed_dict={\n",
    "    x:X_[0:5]\n",
    "})"
   ]
  },
  {
   "cell_type": "code",
   "execution_count": 16,
   "metadata": {},
   "outputs": [
    {
     "name": "stdout",
     "output_type": "stream",
     "text": [
      "[ True  True  True  True  True]\n",
      "[[  7.15914823e-04   6.87976935e-05   8.07222128e-01   6.84024475e-04\n",
      "    1.03548348e-01   2.19293907e-02   3.75901461e-02   1.04763443e-02\n",
      "    3.94817488e-03   1.38166202e-02]\n",
      " [  5.80199276e-06   7.46414628e-07   9.65303916e-04   6.91345531e-06\n",
      "    8.14023733e-01   3.04181140e-06   1.66424189e-03   8.74326192e-03\n",
      "    5.65688452e-03   1.68929994e-01]\n",
      " [  7.18304227e-06   3.25414840e-05   3.12508819e-05   9.09409672e-02\n",
      "    5.47981414e-04   1.40542975e-02   1.09531924e-04   1.12223834e-01\n",
      "    1.10097299e-03   7.80951440e-01]\n",
      " [  1.01537723e-03   2.28320696e-05   1.39875046e-03   7.30853761e-03\n",
      "    2.10668819e-04   7.06068531e-04   1.14811730e-04   2.08662004e-05\n",
      "    9.76177633e-01   1.30243618e-02]\n",
      " [  5.97381877e-05   4.03993545e-06   6.06852063e-06   4.31665592e-03\n",
      "    1.70794930e-02   3.02622467e-02   5.36614563e-04   3.72541207e-03\n",
      "    1.93601120e-02   9.24649596e-01]]\n",
      "[2 4 9 8 9]\n",
      "[[ 0.  0.  1.  0.  0.  0.  0.  0.  0.  0.]\n",
      " [ 0.  0.  0.  0.  1.  0.  0.  0.  0.  0.]\n",
      " [ 0.  0.  0.  0.  0.  0.  0.  0.  0.  1.]\n",
      " [ 0.  0.  0.  0.  0.  0.  0.  0.  1.  0.]\n",
      " [ 0.  0.  0.  0.  0.  0.  0.  0.  0.  1.]]\n"
     ]
    }
   ],
   "source": [
    "print(classfied)\n",
    "print(prob)\n",
    "print(val)\n",
    "print(Y_[0:5])"
   ]
  },
  {
   "cell_type": "code",
   "execution_count": 17,
   "metadata": {},
   "outputs": [
    {
     "data": {
      "image/png": "[encoded data removed]",
      "text/plain": [
       "<matplotlib.figure.Figure at 0x7f2c1eefb128>"
      ]
     },
     "metadata": {},
     "output_type": "display_data"
    }
   ],
   "source": [
    "from matplotlib import pyplot as plt\n",
    "from matplotlib import cm\n",
    "plt.imshow(X_[0].reshape(28, 28), cmap=cm.gray_r)\n",
    "plt.show()"
   ]
  },
  {
   "cell_type": "code",
   "execution_count": 18,
   "metadata": {},
   "outputs": [
    {
     "data": {
      "image/png": "[encoded data removed]",
      "text/plain": [
       "<matplotlib.figure.Figure at 0x7f2c1eefce80>"
      ]
     },
     "metadata": {},
     "output_type": "display_data"
    }
   ],
   "source": [
    "plt.bar(range(10),prob[0])\n",
    "plt.show()"
   ]
  },
  {
   "cell_type": "code",
   "execution_count": null,
   "metadata": {
    "collapsed": true
   },
   "outputs": [],
   "source": []
  }
 ],
 "metadata": {
  "kernelspec": {
   "display_name": "Python 3",
   "language": "python",
   "name": "python3"
  },
  "language_info": {
   "codemirror_mode": {
    "name": "ipython",
    "version": 3
   },
   "file_extension": ".py",
   "mimetype": "text/x-python",
   "name": "python",
   "nbconvert_exporter": "python",
   "pygments_lexer": "ipython3",
   "version": "3.6.1"
  }
 },
 "nbformat": 4,
 "nbformat_minor": 2
}
